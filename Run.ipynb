{
 "cells": [
  {
   "cell_type": "markdown",
   "id": "1118b44e-a9bb-4fcf-b5e9-847a1ef347e5",
   "metadata": {},
   "source": [
    "# Ordering assistant application\n",
    "## Alessandro Corvi\n",
    "\n",
    "In order for streamlit to work the port 8501 must be opened. I am using a pod in order to have enough computational power to run `Mixtral-8x7B-Instruct-v0.1`.  The code contained in `app.py` is then explained in the Jupyter Notebook. \n",
    "\n",
    "This notebook is just for the StreamLit server to start and run."
   ]
  },
  {
   "cell_type": "code",
   "execution_count": 1,
   "id": "32c8ec03-bbb1-4651-8d3d-780a47b11626",
   "metadata": {},
   "outputs": [],
   "source": [
    "%%capture\n",
    "!pip install farm-haystack[faiss,inference]\n",
    "!pip install -q streamlit"
   ]
  },
  {
   "cell_type": "code",
   "execution_count": 2,
   "id": "b729e774-69fd-4de2-9abb-c3d8b0a0f58b",
   "metadata": {},
   "outputs": [
    {
     "name": "stdout",
     "output_type": "stream",
     "text": [
      "/bin/bash: line 1: npm: command not found\n"
     ]
    }
   ],
   "source": [
    "!npm install localtunnel"
   ]
  },
  {
   "cell_type": "code",
   "execution_count": 3,
   "id": "9a2d58ff-e256-4273-aaaa-92e3f464b126",
   "metadata": {},
   "outputs": [
    {
     "name": "stdout",
     "output_type": "stream",
     "text": [
      "mkdir: cannot create directory ‘data’: File exists\n"
     ]
    }
   ],
   "source": [
    "!mkdir data"
   ]
  },
  {
   "cell_type": "code",
   "execution_count": null,
   "id": "9c13dc24-a09d-4bc1-8136-e39392fd9fa1",
   "metadata": {},
   "outputs": [
    {
     "name": "stdout",
     "output_type": "stream",
     "text": [
      "\n",
      "Collecting usage statistics. To deactivate, set browser.gatherUsageStats to False.\n",
      "\u001b[0m\n",
      "\u001b[0m\n",
      "\u001b[34m\u001b[1m  You can now view your Streamlit app in your browser.\u001b[0m\n",
      "\u001b[0m\n",
      "\u001b[34m  Network URL: \u001b[0m\u001b[1mhttp://192.168.224.2:8501\u001b[0m\n",
      "\u001b[34m  External URL: \u001b[0m\u001b[1mhttp://213.173.108.232:8501\u001b[0m\n",
      "\u001b[0m\n",
      "/usr/local/lib/python3.10/dist-packages/torch/_utils.py:831: UserWarning: TypedStorage is deprecated. It will be removed in the future and UntypedStorage will be the only storage class. This should only matter to you if you are using storages directly.  To access UntypedStorage directly, use tensor.untyped_storage() instead of tensor.storage()\n",
      "  return self.fget.__get__(instance, owner)()\n",
      "Updating Embedding:   0%|                             | 0/91 [00:00<?, ? docs/s]\n",
      "Inferencing Samples:   0%|                          | 0/3 [00:00<?, ? Batches/s]\u001b[A\n",
      "Inferencing Samples:  33%|██████            | 1/3 [00:00<00:00,  4.98 Batches/s]\u001b[A\n",
      "Inferencing Samples:  67%|████████████      | 2/3 [00:00<00:00,  5.57 Batches/s]\u001b[A\n",
      "Inferencing Samples: 100%|██████████████████| 3/3 [00:00<00:00,  6.08 Batches/s]\u001b[A\n",
      "Documents Processed: 10000 docs [00:00, 19265.59 docs/s]                        \n",
      "Inferencing Samples: 100%|█████████████████| 1/1 [00:00<00:00, 110.85 Batches/s]\n",
      "Inferencing Samples: 100%|██████████████████| 1/1 [00:00<00:00, 66.50 Batches/s]\n",
      "Inferencing Samples: 100%|██████████████████| 1/1 [00:00<00:00, 77.31 Batches/s]\n",
      "2024-02-27 09:51:12.863 Uncaught app exception\n",
      "Traceback (most recent call last):\n",
      "  File \"/usr/local/lib/python3.10/dist-packages/streamlit/runtime/scriptrunner/script_runner.py\", line 535, in _run_script\n",
      "    exec(code, module.__dict__)\n",
      "  File \"/workspace/app.py\", line 132, in <module>\n",
      "    with st.sidebar.footer:\n",
      "AttributeError: __enter__\n"
     ]
    }
   ],
   "source": [
    "!streamlit run app.py"
   ]
  }
 ],
 "metadata": {
  "kernelspec": {
   "display_name": "Python 3 (ipykernel)",
   "language": "python",
   "name": "python3"
  },
  "language_info": {
   "codemirror_mode": {
    "name": "ipython",
    "version": 3
   },
   "file_extension": ".py",
   "mimetype": "text/x-python",
   "name": "python",
   "nbconvert_exporter": "python",
   "pygments_lexer": "ipython3",
   "version": "3.10.12"
  }
 },
 "nbformat": 4,
 "nbformat_minor": 5
}
